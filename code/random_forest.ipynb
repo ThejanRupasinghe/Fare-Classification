{
 "cells": [
  {
   "cell_type": "markdown",
   "metadata": {},
   "source": [
    "## General Imports"
   ]
  },
  {
   "cell_type": "code",
   "execution_count": 38,
   "metadata": {},
   "outputs": [],
   "source": [
    "%matplotlib inline\n",
    "\n",
    "import matplotlib as mpl\n",
    "import matplotlib.pyplot as plt\n",
    "import numpy as np\n",
    "import pandas as pd\n",
    "import seaborn as sns\n",
    "from datetime import datetime\n",
    "\n",
    "from scipy import stats\n",
    "\n",
    "from sklearn.dummy import DummyRegressor\n",
    "from sklearn.linear_model import LinearRegression\n",
    "from sklearn.linear_model import LogisticRegression\n",
    "from sklearn.linear_model import LogisticRegressionCV\n",
    "from sklearn.neighbors import KNeighborsRegressor\n",
    "from sklearn.svm import SVR\n",
    "from sklearn.ensemble import GradientBoostingRegressor\n",
    "from sklearn.ensemble import RandomForestRegressor\n",
    "from sklearn.ensemble import RandomForestClassifier\n",
    "from sklearn.neural_network import MLPRegressor\n",
    "\n",
    "from sklearn.metrics import mean_absolute_error, accuracy_score, make_scorer, precision_score, recall_score, f1_score\n",
    "\n",
    "from sklearn.feature_selection import SelectKBest\n",
    "from sklearn.feature_selection import chi2\n",
    "from sklearn.feature_selection import f_regression\n",
    "from sklearn.feature_selection import f_classif\n",
    "\n",
    "from sklearn.model_selection import train_test_split\n",
    "from sklearn.model_selection import cross_val_score\n",
    "from sklearn import metrics\n",
    "from sklearn.model_selection import GridSearchCV\n",
    "from sklearn.tree import DecisionTreeClassifier\n",
    "\n",
    "# from sklearn.preprocessing import Imputer\n",
    "from sklearn.impute import SimpleImputer\n",
    "from sklearn.preprocessing import Normalizer\n",
    "\n",
    "from sklearn.decomposition import PCA\n",
    "\n",
    "mpl.rc(group='figure', figsize=(10,8))\n",
    "plt.style.use('seaborn')\n",
    "\n",
    "from warnings import filterwarnings\n",
    "filterwarnings('ignore')"
   ]
  },
  {
   "cell_type": "markdown",
   "metadata": {},
   "source": [
    "## Take Dataset"
   ]
  },
  {
   "cell_type": "code",
   "execution_count": 39,
   "metadata": {},
   "outputs": [],
   "source": [
    "filepath = '../data/'\n",
    "train = pd.read_csv(filepath + 'train.csv')\n",
    "test = pd.read_csv(filepath + 'test.csv')\n",
    "\n",
    "T = test.copy()\n",
    "\n",
    "train.replace(to_replace='correct', value=1, inplace=True)\n",
    "train.replace(to_replace='incorrect', value=0, inplace=True)\n",
    "\n",
    "X = train.iloc[:, 1:-1]\n",
    "Y = train['label']\n",
    "\n",
    "# TODO: replace lat lon with calculated distance from google maps api\n",
    "# https://maps.googleapis.com/maps/api/distancematrix/json?units=imperial&origins=6.86252,79.8993&destinations=6.9033,79.8783&key=API_KEY"
   ]
  },
  {
   "cell_type": "code",
   "execution_count": 40,
   "metadata": {},
   "outputs": [
    {
     "data": {
      "text/html": [
       "<div>\n",
       "<style scoped>\n",
       "    .dataframe tbody tr th:only-of-type {\n",
       "        vertical-align: middle;\n",
       "    }\n",
       "\n",
       "    .dataframe tbody tr th {\n",
       "        vertical-align: top;\n",
       "    }\n",
       "\n",
       "    .dataframe thead th {\n",
       "        text-align: right;\n",
       "    }\n",
       "</style>\n",
       "<table border=\"1\" class=\"dataframe\">\n",
       "  <thead>\n",
       "    <tr style=\"text-align: right;\">\n",
       "      <th></th>\n",
       "      <th>additional_fare</th>\n",
       "      <th>duration</th>\n",
       "      <th>meter_waiting</th>\n",
       "      <th>meter_waiting_fare</th>\n",
       "      <th>meter_waiting_till_pickup</th>\n",
       "      <th>pickup_time</th>\n",
       "      <th>drop_time</th>\n",
       "      <th>pick_lat</th>\n",
       "      <th>pick_lon</th>\n",
       "      <th>drop_lat</th>\n",
       "      <th>drop_lon</th>\n",
       "      <th>fare</th>\n",
       "    </tr>\n",
       "  </thead>\n",
       "  <tbody>\n",
       "    <tr>\n",
       "      <th>0</th>\n",
       "      <td>10.5</td>\n",
       "      <td>834</td>\n",
       "      <td>56.0</td>\n",
       "      <td>0.0000</td>\n",
       "      <td>64.0</td>\n",
       "      <td>11/1/2019 0:20</td>\n",
       "      <td>11/1/2019 0:34</td>\n",
       "      <td>6.86252</td>\n",
       "      <td>79.8993</td>\n",
       "      <td>6.90330</td>\n",
       "      <td>79.8783</td>\n",
       "      <td>270.32</td>\n",
       "    </tr>\n",
       "    <tr>\n",
       "      <th>1</th>\n",
       "      <td>10.5</td>\n",
       "      <td>791</td>\n",
       "      <td>47.0</td>\n",
       "      <td>0.0000</td>\n",
       "      <td>134.0</td>\n",
       "      <td>11/1/2019 0:56</td>\n",
       "      <td>11/1/2019 1:09</td>\n",
       "      <td>6.88589</td>\n",
       "      <td>79.8984</td>\n",
       "      <td>6.91373</td>\n",
       "      <td>79.8923</td>\n",
       "      <td>197.85</td>\n",
       "    </tr>\n",
       "    <tr>\n",
       "      <th>2</th>\n",
       "      <td>10.5</td>\n",
       "      <td>1087</td>\n",
       "      <td>80.0</td>\n",
       "      <td>0.0000</td>\n",
       "      <td>61.0</td>\n",
       "      <td>11/1/2019 1:08</td>\n",
       "      <td>11/1/2019 1:26</td>\n",
       "      <td>6.90839</td>\n",
       "      <td>79.8651</td>\n",
       "      <td>6.93669</td>\n",
       "      <td>79.9146</td>\n",
       "      <td>301.64</td>\n",
       "    </tr>\n",
       "    <tr>\n",
       "      <th>3</th>\n",
       "      <td>10.5</td>\n",
       "      <td>598</td>\n",
       "      <td>271.0</td>\n",
       "      <td>15.6638</td>\n",
       "      <td>68.0</td>\n",
       "      <td>11/1/2019 2:27</td>\n",
       "      <td>11/1/2019 2:37</td>\n",
       "      <td>6.92570</td>\n",
       "      <td>79.8895</td>\n",
       "      <td>6.92748</td>\n",
       "      <td>79.8971</td>\n",
       "      <td>82.30</td>\n",
       "    </tr>\n",
       "    <tr>\n",
       "      <th>4</th>\n",
       "      <td>NaN</td>\n",
       "      <td>1020</td>\n",
       "      <td>NaN</td>\n",
       "      <td>NaN</td>\n",
       "      <td>NaN</td>\n",
       "      <td>11/1/2019 3:34</td>\n",
       "      <td>11/1/2019 3:51</td>\n",
       "      <td>6.87441</td>\n",
       "      <td>79.8615</td>\n",
       "      <td>6.84478</td>\n",
       "      <td>79.9290</td>\n",
       "      <td>358.39</td>\n",
       "    </tr>\n",
       "    <tr>\n",
       "      <th>...</th>\n",
       "      <td>...</td>\n",
       "      <td>...</td>\n",
       "      <td>...</td>\n",
       "      <td>...</td>\n",
       "      <td>...</td>\n",
       "      <td>...</td>\n",
       "      <td>...</td>\n",
       "      <td>...</td>\n",
       "      <td>...</td>\n",
       "      <td>...</td>\n",
       "      <td>...</td>\n",
       "      <td>...</td>\n",
       "    </tr>\n",
       "    <tr>\n",
       "      <th>17171</th>\n",
       "      <td>10.5</td>\n",
       "      <td>838</td>\n",
       "      <td>93.0</td>\n",
       "      <td>5.4219</td>\n",
       "      <td>451.0</td>\n",
       "      <td>1/31/2020 22:07</td>\n",
       "      <td>1/31/2020 22:21</td>\n",
       "      <td>7.29073</td>\n",
       "      <td>80.6367</td>\n",
       "      <td>7.28891</td>\n",
       "      <td>80.6557</td>\n",
       "      <td>198.26</td>\n",
       "    </tr>\n",
       "    <tr>\n",
       "      <th>17172</th>\n",
       "      <td>10.5</td>\n",
       "      <td>2151</td>\n",
       "      <td>428.0</td>\n",
       "      <td>0.0000</td>\n",
       "      <td>39.0</td>\n",
       "      <td>1/31/2020 23:07</td>\n",
       "      <td>1/31/2020 23:43</td>\n",
       "      <td>6.90569</td>\n",
       "      <td>79.8516</td>\n",
       "      <td>6.95089</td>\n",
       "      <td>79.9389</td>\n",
       "      <td>581.23</td>\n",
       "    </tr>\n",
       "    <tr>\n",
       "      <th>17173</th>\n",
       "      <td>10.5</td>\n",
       "      <td>263</td>\n",
       "      <td>9.0</td>\n",
       "      <td>0.0000</td>\n",
       "      <td>110.0</td>\n",
       "      <td>1/31/2020 23:21</td>\n",
       "      <td>1/31/2020 23:25</td>\n",
       "      <td>7.09210</td>\n",
       "      <td>79.9000</td>\n",
       "      <td>7.10135</td>\n",
       "      <td>79.9017</td>\n",
       "      <td>76.20</td>\n",
       "    </tr>\n",
       "    <tr>\n",
       "      <th>17174</th>\n",
       "      <td>10.5</td>\n",
       "      <td>858</td>\n",
       "      <td>115.0</td>\n",
       "      <td>0.0000</td>\n",
       "      <td>317.0</td>\n",
       "      <td>1/31/2020 23:39</td>\n",
       "      <td>1/31/2020 23:53</td>\n",
       "      <td>6.94540</td>\n",
       "      <td>79.8768</td>\n",
       "      <td>6.93574</td>\n",
       "      <td>79.9010</td>\n",
       "      <td>133.31</td>\n",
       "    </tr>\n",
       "    <tr>\n",
       "      <th>17175</th>\n",
       "      <td>10.5</td>\n",
       "      <td>262</td>\n",
       "      <td>21.0</td>\n",
       "      <td>1.2243</td>\n",
       "      <td>23.0</td>\n",
       "      <td>1/31/2020 23:49</td>\n",
       "      <td>1/31/2020 23:53</td>\n",
       "      <td>6.90257</td>\n",
       "      <td>79.9557</td>\n",
       "      <td>6.90823</td>\n",
       "      <td>79.9374</td>\n",
       "      <td>98.57</td>\n",
       "    </tr>\n",
       "  </tbody>\n",
       "</table>\n",
       "<p>17176 rows × 12 columns</p>\n",
       "</div>"
      ],
      "text/plain": [
       "       additional_fare  duration  meter_waiting  meter_waiting_fare  \\\n",
       "0                 10.5       834           56.0              0.0000   \n",
       "1                 10.5       791           47.0              0.0000   \n",
       "2                 10.5      1087           80.0              0.0000   \n",
       "3                 10.5       598          271.0             15.6638   \n",
       "4                  NaN      1020            NaN                 NaN   \n",
       "...                ...       ...            ...                 ...   \n",
       "17171             10.5       838           93.0              5.4219   \n",
       "17172             10.5      2151          428.0              0.0000   \n",
       "17173             10.5       263            9.0              0.0000   \n",
       "17174             10.5       858          115.0              0.0000   \n",
       "17175             10.5       262           21.0              1.2243   \n",
       "\n",
       "       meter_waiting_till_pickup      pickup_time        drop_time  pick_lat  \\\n",
       "0                           64.0   11/1/2019 0:20   11/1/2019 0:34   6.86252   \n",
       "1                          134.0   11/1/2019 0:56   11/1/2019 1:09   6.88589   \n",
       "2                           61.0   11/1/2019 1:08   11/1/2019 1:26   6.90839   \n",
       "3                           68.0   11/1/2019 2:27   11/1/2019 2:37   6.92570   \n",
       "4                            NaN   11/1/2019 3:34   11/1/2019 3:51   6.87441   \n",
       "...                          ...              ...              ...       ...   \n",
       "17171                      451.0  1/31/2020 22:07  1/31/2020 22:21   7.29073   \n",
       "17172                       39.0  1/31/2020 23:07  1/31/2020 23:43   6.90569   \n",
       "17173                      110.0  1/31/2020 23:21  1/31/2020 23:25   7.09210   \n",
       "17174                      317.0  1/31/2020 23:39  1/31/2020 23:53   6.94540   \n",
       "17175                       23.0  1/31/2020 23:49  1/31/2020 23:53   6.90257   \n",
       "\n",
       "       pick_lon  drop_lat  drop_lon    fare  \n",
       "0       79.8993   6.90330   79.8783  270.32  \n",
       "1       79.8984   6.91373   79.8923  197.85  \n",
       "2       79.8651   6.93669   79.9146  301.64  \n",
       "3       79.8895   6.92748   79.8971   82.30  \n",
       "4       79.8615   6.84478   79.9290  358.39  \n",
       "...         ...       ...       ...     ...  \n",
       "17171   80.6367   7.28891   80.6557  198.26  \n",
       "17172   79.8516   6.95089   79.9389  581.23  \n",
       "17173   79.9000   7.10135   79.9017   76.20  \n",
       "17174   79.8768   6.93574   79.9010  133.31  \n",
       "17175   79.9557   6.90823   79.9374   98.57  \n",
       "\n",
       "[17176 rows x 12 columns]"
      ]
     },
     "execution_count": 40,
     "metadata": {},
     "output_type": "execute_result"
    }
   ],
   "source": [
    "X"
   ]
  },
  {
   "cell_type": "code",
   "execution_count": 41,
   "metadata": {},
   "outputs": [
    {
     "name": "stdout",
     "output_type": "stream",
     "text": [
      "Class 0: 1681\n",
      "Class 1: 15495\n",
      "Proportion: 0.11 : 1\n"
     ]
    },
    {
     "data": {
      "image/png": "[encoded data removed]",
      "text/plain": [
       "<Figure size 576x396 with 1 Axes>"
      ]
     },
     "metadata": {},
     "output_type": "display_data"
    }
   ],
   "source": [
    "target_count = train.label.value_counts()\n",
    "print('Class 0:', target_count[0])\n",
    "print('Class 1:', target_count[1])\n",
    "print('Proportion:', round(target_count[0] / target_count[1], 2), ': 1')\n",
    "\n",
    "target_count.plot(kind='bar', title='Count (target)');"
   ]
  },
  {
   "cell_type": "code",
   "execution_count": 42,
   "metadata": {},
   "outputs": [
    {
     "name": "stdout",
     "output_type": "stream",
     "text": [
      "Random under-sampling:\n",
      "1    1681\n",
      "0    1681\n",
      "Name: label, dtype: int64\n"
     ]
    },
    {
     "data": {
      "text/plain": [
       "<matplotlib.axes._subplots.AxesSubplot at 0x1ba5a066ac8>"
      ]
     },
     "execution_count": 42,
     "metadata": {},
     "output_type": "execute_result"
    },
    {
     "data": {
      "image/png": "[encoded data removed]",
      "text/plain": [
       "<Figure size 576x396 with 1 Axes>"
      ]
     },
     "metadata": {},
     "output_type": "display_data"
    }
   ],
   "source": [
    "# Divide by class\n",
    "df_class_0 = train[train['label'] == 0]\n",
    "df_class_1 = train[train['label'] == 1]\n",
    "\n",
    "#Random under-sampling\n",
    "df_class_1_under = df_class_1.sample(target_count[0])\n",
    "df_test_under = pd.concat([df_class_1_under, df_class_0], axis=0)\n",
    "\n",
    "print('Random under-sampling:')\n",
    "print(df_test_under.label.value_counts())\n",
    "\n",
    "df_test_under.label.value_counts().plot(kind='bar', title='Count (target)')"
   ]
  },
  {
   "cell_type": "code",
   "execution_count": 43,
   "metadata": {},
   "outputs": [],
   "source": [
    "X = df_test_under.iloc[:, 1:-1]\n",
    "Y = df_test_under['label']"
   ]
  },
  {
   "cell_type": "markdown",
   "metadata": {},
   "source": [
    "## Filling Missing values"
   ]
  },
  {
   "cell_type": "markdown",
   "metadata": {},
   "source": [
    "#### duration filled in excel"
   ]
  },
  {
   "cell_type": "code",
   "execution_count": 44,
   "metadata": {},
   "outputs": [],
   "source": [
    "X['additional_fare'].fillna(10.5, inplace=True)\n",
    "X['meter_waiting'].fillna(X['meter_waiting'].mean(), inplace=True)\n",
    "X['meter_waiting_fare'].fillna(X['meter_waiting_fare'].mean(), inplace=True)\n",
    "X['meter_waiting_till_pickup'].fillna(X['meter_waiting_till_pickup'].mean(), inplace=True)\n",
    "X['fare'].fillna(X['additional_fare']+X['meter_waiting_fare'], inplace=True)"
   ]
  },
  {
   "cell_type": "code",
   "execution_count": 45,
   "metadata": {
    "scrolled": true
   },
   "outputs": [
    {
     "data": {
      "text/html": [
       "<div>\n",
       "<style scoped>\n",
       "    .dataframe tbody tr th:only-of-type {\n",
       "        vertical-align: middle;\n",
       "    }\n",
       "\n",
       "    .dataframe tbody tr th {\n",
       "        vertical-align: top;\n",
       "    }\n",
       "\n",
       "    .dataframe thead th {\n",
       "        text-align: right;\n",
       "    }\n",
       "</style>\n",
       "<table border=\"1\" class=\"dataframe\">\n",
       "  <thead>\n",
       "    <tr style=\"text-align: right;\">\n",
       "      <th></th>\n",
       "      <th>additional_fare</th>\n",
       "      <th>duration</th>\n",
       "      <th>meter_waiting</th>\n",
       "      <th>meter_waiting_fare</th>\n",
       "      <th>meter_waiting_till_pickup</th>\n",
       "      <th>pickup_time</th>\n",
       "      <th>drop_time</th>\n",
       "      <th>pick_lat</th>\n",
       "      <th>pick_lon</th>\n",
       "      <th>drop_lat</th>\n",
       "      <th>drop_lon</th>\n",
       "      <th>fare</th>\n",
       "    </tr>\n",
       "  </thead>\n",
       "  <tbody>\n",
       "    <tr>\n",
       "      <th>1815</th>\n",
       "      <td>10.5</td>\n",
       "      <td>1117</td>\n",
       "      <td>666.000000</td>\n",
       "      <td>38.548564</td>\n",
       "      <td>102.000000</td>\n",
       "      <td>11/10/2019 15:44</td>\n",
       "      <td>11/10/2019 16:02</td>\n",
       "      <td>6.98773</td>\n",
       "      <td>79.8912</td>\n",
       "      <td>6.99110</td>\n",
       "      <td>79.8958</td>\n",
       "      <td>178.65000</td>\n",
       "    </tr>\n",
       "    <tr>\n",
       "      <th>3369</th>\n",
       "      <td>10.5</td>\n",
       "      <td>1635</td>\n",
       "      <td>90.000000</td>\n",
       "      <td>0.000000</td>\n",
       "      <td>102.000000</td>\n",
       "      <td>11/20/2019 16:25</td>\n",
       "      <td>11/20/2019 16:52</td>\n",
       "      <td>6.86923</td>\n",
       "      <td>79.8810</td>\n",
       "      <td>6.87136</td>\n",
       "      <td>79.9557</td>\n",
       "      <td>358.71000</td>\n",
       "    </tr>\n",
       "    <tr>\n",
       "      <th>1755</th>\n",
       "      <td>10.5</td>\n",
       "      <td>1499</td>\n",
       "      <td>290.000000</td>\n",
       "      <td>16.907000</td>\n",
       "      <td>231.000000</td>\n",
       "      <td>11/10/2019 9:06</td>\n",
       "      <td>11/10/2019 9:31</td>\n",
       "      <td>6.88271</td>\n",
       "      <td>79.9454</td>\n",
       "      <td>6.91764</td>\n",
       "      <td>79.8548</td>\n",
       "      <td>470.60000</td>\n",
       "    </tr>\n",
       "    <tr>\n",
       "      <th>391</th>\n",
       "      <td>10.5</td>\n",
       "      <td>1186</td>\n",
       "      <td>130.000000</td>\n",
       "      <td>7.532599</td>\n",
       "      <td>88.000000</td>\n",
       "      <td>11/3/2019 12:45</td>\n",
       "      <td>11/3/2019 13:05</td>\n",
       "      <td>7.28980</td>\n",
       "      <td>80.6341</td>\n",
       "      <td>7.24951</td>\n",
       "      <td>80.6340</td>\n",
       "      <td>254.95000</td>\n",
       "    </tr>\n",
       "    <tr>\n",
       "      <th>12954</th>\n",
       "      <td>10.5</td>\n",
       "      <td>955</td>\n",
       "      <td>112.000000</td>\n",
       "      <td>0.000000</td>\n",
       "      <td>591.000000</td>\n",
       "      <td>1/9/2020 20:20</td>\n",
       "      <td>1/9/2020 20:36</td>\n",
       "      <td>7.23884</td>\n",
       "      <td>79.8594</td>\n",
       "      <td>7.20415</td>\n",
       "      <td>79.8514</td>\n",
       "      <td>210.25000</td>\n",
       "    </tr>\n",
       "    <tr>\n",
       "      <th>...</th>\n",
       "      <td>...</td>\n",
       "      <td>...</td>\n",
       "      <td>...</td>\n",
       "      <td>...</td>\n",
       "      <td>...</td>\n",
       "      <td>...</td>\n",
       "      <td>...</td>\n",
       "      <td>...</td>\n",
       "      <td>...</td>\n",
       "      <td>...</td>\n",
       "      <td>...</td>\n",
       "      <td>...</td>\n",
       "    </tr>\n",
       "    <tr>\n",
       "      <th>17123</th>\n",
       "      <td>10.5</td>\n",
       "      <td>4380</td>\n",
       "      <td>1795.384279</td>\n",
       "      <td>96.951310</td>\n",
       "      <td>133.735184</td>\n",
       "      <td>1/31/2020 16:46</td>\n",
       "      <td>1/31/2020 17:59</td>\n",
       "      <td>6.87969</td>\n",
       "      <td>79.8597</td>\n",
       "      <td>6.97458</td>\n",
       "      <td>79.9380</td>\n",
       "      <td>107.45131</td>\n",
       "    </tr>\n",
       "    <tr>\n",
       "      <th>17130</th>\n",
       "      <td>40.5</td>\n",
       "      <td>4310</td>\n",
       "      <td>1314.000000</td>\n",
       "      <td>75.949200</td>\n",
       "      <td>469.000000</td>\n",
       "      <td>1/31/2020 17:22</td>\n",
       "      <td>1/31/2020 18:34</td>\n",
       "      <td>6.91819</td>\n",
       "      <td>79.8627</td>\n",
       "      <td>6.83700</td>\n",
       "      <td>79.8947</td>\n",
       "      <td>902.02000</td>\n",
       "    </tr>\n",
       "    <tr>\n",
       "      <th>17131</th>\n",
       "      <td>40.5</td>\n",
       "      <td>913</td>\n",
       "      <td>445.000000</td>\n",
       "      <td>0.000000</td>\n",
       "      <td>47.000000</td>\n",
       "      <td>1/31/2020 17:39</td>\n",
       "      <td>1/31/2020 17:54</td>\n",
       "      <td>7.29842</td>\n",
       "      <td>80.6363</td>\n",
       "      <td>7.30808</td>\n",
       "      <td>80.6399</td>\n",
       "      <td>534.00000</td>\n",
       "    </tr>\n",
       "    <tr>\n",
       "      <th>17150</th>\n",
       "      <td>10.5</td>\n",
       "      <td>3660</td>\n",
       "      <td>1795.384279</td>\n",
       "      <td>96.951310</td>\n",
       "      <td>133.735184</td>\n",
       "      <td>1/31/2020 19:42</td>\n",
       "      <td>1/31/2020 20:43</td>\n",
       "      <td>6.93046</td>\n",
       "      <td>79.8903</td>\n",
       "      <td>6.91713</td>\n",
       "      <td>79.8910</td>\n",
       "      <td>107.45131</td>\n",
       "    </tr>\n",
       "    <tr>\n",
       "      <th>17166</th>\n",
       "      <td>40.5</td>\n",
       "      <td>1859</td>\n",
       "      <td>1856.000000</td>\n",
       "      <td>108.204800</td>\n",
       "      <td>298.000000</td>\n",
       "      <td>1/31/2020 21:22</td>\n",
       "      <td>1/31/2020 21:53</td>\n",
       "      <td>7.31843</td>\n",
       "      <td>80.6249</td>\n",
       "      <td>7.31851</td>\n",
       "      <td>80.6249</td>\n",
       "      <td>208.70000</td>\n",
       "    </tr>\n",
       "  </tbody>\n",
       "</table>\n",
       "<p>3362 rows × 12 columns</p>\n",
       "</div>"
      ],
      "text/plain": [
       "       additional_fare  duration  meter_waiting  meter_waiting_fare  \\\n",
       "1815              10.5      1117     666.000000           38.548564   \n",
       "3369              10.5      1635      90.000000            0.000000   \n",
       "1755              10.5      1499     290.000000           16.907000   \n",
       "391               10.5      1186     130.000000            7.532599   \n",
       "12954             10.5       955     112.000000            0.000000   \n",
       "...                ...       ...            ...                 ...   \n",
       "17123             10.5      4380    1795.384279           96.951310   \n",
       "17130             40.5      4310    1314.000000           75.949200   \n",
       "17131             40.5       913     445.000000            0.000000   \n",
       "17150             10.5      3660    1795.384279           96.951310   \n",
       "17166             40.5      1859    1856.000000          108.204800   \n",
       "\n",
       "       meter_waiting_till_pickup       pickup_time         drop_time  \\\n",
       "1815                  102.000000  11/10/2019 15:44  11/10/2019 16:02   \n",
       "3369                  102.000000  11/20/2019 16:25  11/20/2019 16:52   \n",
       "1755                  231.000000   11/10/2019 9:06   11/10/2019 9:31   \n",
       "391                    88.000000   11/3/2019 12:45   11/3/2019 13:05   \n",
       "12954                 591.000000    1/9/2020 20:20    1/9/2020 20:36   \n",
       "...                          ...               ...               ...   \n",
       "17123                 133.735184   1/31/2020 16:46   1/31/2020 17:59   \n",
       "17130                 469.000000   1/31/2020 17:22   1/31/2020 18:34   \n",
       "17131                  47.000000   1/31/2020 17:39   1/31/2020 17:54   \n",
       "17150                 133.735184   1/31/2020 19:42   1/31/2020 20:43   \n",
       "17166                 298.000000   1/31/2020 21:22   1/31/2020 21:53   \n",
       "\n",
       "       pick_lat  pick_lon  drop_lat  drop_lon       fare  \n",
       "1815    6.98773   79.8912   6.99110   79.8958  178.65000  \n",
       "3369    6.86923   79.8810   6.87136   79.9557  358.71000  \n",
       "1755    6.88271   79.9454   6.91764   79.8548  470.60000  \n",
       "391     7.28980   80.6341   7.24951   80.6340  254.95000  \n",
       "12954   7.23884   79.8594   7.20415   79.8514  210.25000  \n",
       "...         ...       ...       ...       ...        ...  \n",
       "17123   6.87969   79.8597   6.97458   79.9380  107.45131  \n",
       "17130   6.91819   79.8627   6.83700   79.8947  902.02000  \n",
       "17131   7.29842   80.6363   7.30808   80.6399  534.00000  \n",
       "17150   6.93046   79.8903   6.91713   79.8910  107.45131  \n",
       "17166   7.31843   80.6249   7.31851   80.6249  208.70000  \n",
       "\n",
       "[3362 rows x 12 columns]"
      ]
     },
     "execution_count": 45,
     "metadata": {},
     "output_type": "execute_result"
    }
   ],
   "source": [
    "X"
   ]
  },
  {
   "cell_type": "markdown",
   "metadata": {},
   "source": [
    "## Format datetime values"
   ]
  },
  {
   "cell_type": "code",
   "execution_count": 46,
   "metadata": {},
   "outputs": [],
   "source": [
    "# Removing datetime columns for now\n",
    "# TODO: encode in pickup_year,pickup_month,pickup_date,pickup_hour,pickup_min etc\n",
    "\n",
    "X.drop(['pickup_time','drop_time'], axis=1, inplace=True)\n",
    "T.drop(['tripid', 'pickup_time','drop_time'], axis=1, inplace=True)"
   ]
  },
  {
   "cell_type": "markdown",
   "metadata": {},
   "source": [
    "## Test Train Split"
   ]
  },
  {
   "cell_type": "code",
   "execution_count": 47,
   "metadata": {},
   "outputs": [],
   "source": [
    "X_train, X_test, Y_train, Y_test = train_test_split(X, Y, test_size=0.2)"
   ]
  },
  {
   "cell_type": "markdown",
   "metadata": {},
   "source": [
    "## Normalize"
   ]
  },
  {
   "cell_type": "code",
   "execution_count": 48,
   "metadata": {},
   "outputs": [],
   "source": [
    "# normalizer = Normalizer()\n",
    "# normalizer.fit(X_train)\n",
    "\n",
    "# X_train = normalizer.transform(X_train)\n",
    "# X_test = normalizer.transform(X_test)"
   ]
  },
  {
   "cell_type": "markdown",
   "metadata": {},
   "source": [
    "## PCA"
   ]
  },
  {
   "cell_type": "code",
   "execution_count": 49,
   "metadata": {},
   "outputs": [],
   "source": [
    "pca = PCA(10)\n",
    "pca.fit(X_train)\n",
    "\n",
    "X_train = pca.transform(X_train)\n",
    "X_test = pca.transform(X_test)"
   ]
  },
  {
   "cell_type": "markdown",
   "metadata": {},
   "source": [
    "## Cross-val"
   ]
  },
  {
   "cell_type": "code",
   "execution_count": 50,
   "metadata": {},
   "outputs": [
    {
     "data": {
      "text/plain": [
       "array([0.8125199 , 0.80950022, 0.83852911, 0.84654643, 0.82732589])"
      ]
     },
     "execution_count": 50,
     "metadata": {},
     "output_type": "execute_result"
    }
   ],
   "source": [
    "model = RandomForestClassifier(n_jobs=5, random_state=0)\n",
    "\n",
    "scores = cross_val_score(model, X, Y, cv=5, scoring='f1_macro')\n",
    "scores"
   ]
  },
  {
   "cell_type": "markdown",
   "metadata": {},
   "source": [
    "## Model"
   ]
  },
  {
   "cell_type": "code",
   "execution_count": 51,
   "metadata": {},
   "outputs": [
    {
     "name": "stdout",
     "output_type": "stream",
     "text": [
      "Accuracy:  0.849925705794948\n",
      "F1:  0.8595271210013908\n"
     ]
    }
   ],
   "source": [
    "model = RandomForestClassifier(n_jobs=5, random_state=0)\n",
    "model.fit(X_train, Y_train)\n",
    "Y_predict = model.predict(X_test)\n",
    "print(\"Accuracy: \" , accuracy_score(Y_test, Y_predict))\n",
    "print(\"F1: \" , f1_score(Y_test, Y_predict))"
   ]
  },
  {
   "cell_type": "markdown",
   "metadata": {},
   "source": [
    "## For all data"
   ]
  },
  {
   "cell_type": "code",
   "execution_count": 11,
   "metadata": {},
   "outputs": [
    {
     "data": {
      "text/plain": [
       "0        1\n",
       "1        1\n",
       "2        1\n",
       "3        1\n",
       "4        1\n",
       "        ..\n",
       "17171    1\n",
       "17172    1\n",
       "17173    1\n",
       "17174    1\n",
       "17175    1\n",
       "Name: label, Length: 17176, dtype: int64"
      ]
     },
     "execution_count": 11,
     "metadata": {},
     "output_type": "execute_result"
    }
   ],
   "source": [
    "Y"
   ]
  },
  {
   "cell_type": "code",
   "execution_count": 12,
   "metadata": {},
   "outputs": [
    {
     "data": {
      "text/plain": [
       "array([1, 1, 1, ..., 1, 1, 1], dtype=int64)"
      ]
     },
     "execution_count": 12,
     "metadata": {},
     "output_type": "execute_result"
    }
   ],
   "source": [
    "pca = PCA(10)\n",
    "pca.fit(X)\n",
    "\n",
    "X = pca.transform(X)\n",
    "T = pca.transform(T)\n",
    "\n",
    "model = RandomForestClassifier(n_jobs=5, random_state=1)\n",
    "model.fit(X, Y)\n",
    "T_Predict = model.predict(T)\n",
    "\n",
    "T_Predict"
   ]
  },
  {
   "cell_type": "markdown",
   "metadata": {},
   "source": [
    "## Submission"
   ]
  },
  {
   "cell_type": "code",
   "execution_count": 52,
   "metadata": {},
   "outputs": [
    {
     "data": {
      "text/html": [
       "<div>\n",
       "<style scoped>\n",
       "    .dataframe tbody tr th:only-of-type {\n",
       "        vertical-align: middle;\n",
       "    }\n",
       "\n",
       "    .dataframe tbody tr th {\n",
       "        vertical-align: top;\n",
       "    }\n",
       "\n",
       "    .dataframe thead th {\n",
       "        text-align: right;\n",
       "    }\n",
       "</style>\n",
       "<table border=\"1\" class=\"dataframe\">\n",
       "  <thead>\n",
       "    <tr style=\"text-align: right;\">\n",
       "      <th></th>\n",
       "      <th>tripid</th>\n",
       "      <th>prediction</th>\n",
       "    </tr>\n",
       "  </thead>\n",
       "  <tbody>\n",
       "    <tr>\n",
       "      <th>0</th>\n",
       "      <td>213284604</td>\n",
       "      <td>1</td>\n",
       "    </tr>\n",
       "    <tr>\n",
       "      <th>1</th>\n",
       "      <td>213286352</td>\n",
       "      <td>0</td>\n",
       "    </tr>\n",
       "    <tr>\n",
       "      <th>2</th>\n",
       "      <td>213293973</td>\n",
       "      <td>1</td>\n",
       "    </tr>\n",
       "    <tr>\n",
       "      <th>3</th>\n",
       "      <td>213294622</td>\n",
       "      <td>1</td>\n",
       "    </tr>\n",
       "    <tr>\n",
       "      <th>4</th>\n",
       "      <td>213298687</td>\n",
       "      <td>1</td>\n",
       "    </tr>\n",
       "    <tr>\n",
       "      <th>...</th>\n",
       "      <td>...</td>\n",
       "      <td>...</td>\n",
       "    </tr>\n",
       "    <tr>\n",
       "      <th>8571</th>\n",
       "      <td>222856243</td>\n",
       "      <td>1</td>\n",
       "    </tr>\n",
       "    <tr>\n",
       "      <th>8572</th>\n",
       "      <td>222857785</td>\n",
       "      <td>1</td>\n",
       "    </tr>\n",
       "    <tr>\n",
       "      <th>8573</th>\n",
       "      <td>222858416</td>\n",
       "      <td>1</td>\n",
       "    </tr>\n",
       "    <tr>\n",
       "      <th>8574</th>\n",
       "      <td>222858691</td>\n",
       "      <td>1</td>\n",
       "    </tr>\n",
       "    <tr>\n",
       "      <th>8575</th>\n",
       "      <td>222860703</td>\n",
       "      <td>1</td>\n",
       "    </tr>\n",
       "  </tbody>\n",
       "</table>\n",
       "<p>8576 rows × 2 columns</p>\n",
       "</div>"
      ],
      "text/plain": [
       "         tripid  prediction\n",
       "0     213284604           1\n",
       "1     213286352           0\n",
       "2     213293973           1\n",
       "3     213294622           1\n",
       "4     213298687           1\n",
       "...         ...         ...\n",
       "8571  222856243           1\n",
       "8572  222857785           1\n",
       "8573  222858416           1\n",
       "8574  222858691           1\n",
       "8575  222860703           1\n",
       "\n",
       "[8576 rows x 2 columns]"
      ]
     },
     "execution_count": 52,
     "metadata": {},
     "output_type": "execute_result"
    }
   ],
   "source": [
    "T = pca.transform(T)\n",
    "\n",
    "T_Predict = model.predict(T)\n",
    "\n",
    "T_Predict\n",
    "\n",
    "name = \"randomforest_pca10_jobs5_state1_sampled\"\n",
    "\n",
    "date = datetime.now().strftime('%m-%d-%H_%M_%S')\n",
    "file = open(\"../submissions/\" + name + \"_\" + date + \".csv\", \"w+\")\n",
    "\n",
    "submit = pd.DataFrame()\n",
    "submit[\"tripid\"] = test[\"tripid\"]\n",
    "submit[\"prediction\"] = T_Predict\n",
    "\n",
    "submit"
   ]
  },
  {
   "cell_type": "code",
   "execution_count": 53,
   "metadata": {},
   "outputs": [],
   "source": [
    "submit.to_csv(file, header=True, index=False, line_terminator='\\n')\n",
    "file.flush()"
   ]
  },
  {
   "cell_type": "code",
   "execution_count": null,
   "metadata": {},
   "outputs": [],
   "source": []
  }
 ],
 "metadata": {
  "kernelspec": {
   "display_name": "Python 3",
   "language": "python",
   "name": "python3"
  },
  "language_info": {
   "codemirror_mode": {
    "name": "ipython",
    "version": 3
   },
   "file_extension": ".py",
   "mimetype": "text/x-python",
   "name": "python",
   "nbconvert_exporter": "python",
   "pygments_lexer": "ipython3",
   "version": "3.7.6"
  }
 },
 "nbformat": 4,
 "nbformat_minor": 4
}
